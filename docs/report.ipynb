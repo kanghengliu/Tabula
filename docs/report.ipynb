{
 "cells": [
  {
   "cell_type": "markdown",
   "id": "a30b64ad",
   "metadata": {},
   "source": [
    "---\n",
    "title: \"Tabula: Reinforcement Learning\"\n",
    "subtitle: \"A DSAN 6650 Homework\"\n",
    "author: \"Kangheng Liu\"\n",
    "date: last-modified\n",
    "date-format: long\n",
    "format:\n",
    "    html:\n",
    "        theme:\n",
    "            dark: \n",
    "                - cosmo\n",
    "                - style/html-sta313.scss\n",
    "                - style/html-dark.scss\n",
    "                - style/my-adjustments.scss\n",
    "            light: \n",
    "                - cosmo\n",
    "                - style/html-sta313.scss\n",
    "        toc: true\n",
    "        code-copy: true\n",
    "        code-overflow: wrap\n",
    "        mainfont: \"Atkinson Hyperlegible\"\n",
    "        code-annotations: hover\n",
    "        self-contained: true\n",
    "execute:\n",
    "    echo: true\n",
    "    warning: false\n",
    "    message: false\n",
    "    freeze: auto\n",
    "filters:\n",
    "    - openlinksinnewpage\n",
    "lightbox: auto\n",
    "---"
   ]
  },
  {
   "cell_type": "markdown",
   "metadata": {},
   "source": [
    "## Introduction"
   ]
  },
  {
   "cell_type": "markdown",
   "metadata": {},
   "source": [
    "## Environments"
   ]
  },
  {
   "cell_type": "markdown",
   "metadata": {},
   "source": [
    "## Solvers"
   ]
  },
  {
   "cell_type": "markdown",
   "metadata": {},
   "source": [
    "## Training"
   ]
  },
  {
   "cell_type": "markdown",
   "metadata": {},
   "source": [
    "## Visaulization"
   ]
  },
  {
   "cell_type": "markdown",
   "metadata": {},
   "source": [
    "## Evaluation"
   ]
  },
  {
   "cell_type": "markdown",
   "metadata": {},
   "source": [
    "## Conclusion"
   ]
  }
 ],
 "metadata": {
  "kernelspec": {
   "display_name": "rein",
   "language": "python",
   "name": "python3"
  },
  "language_info": {
   "name": "python",
   "version": "3.11.10"
  }
 },
 "nbformat": 4,
 "nbformat_minor": 2
}
